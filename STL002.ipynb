{
 "cells": [
  {
   "cell_type": "markdown",
   "metadata": {},
   "source": [
    "### STL"
   ]
  },
  {
   "cell_type": "markdown",
   "metadata": {},
   "source": [
    "STL (Standard Template Library) is a software library for the C++ programming language that influenced many parts of the C++ Standard Library. <br>\n",
    "STL provides four components : algorithms, containers, functions, iterators.<br>\n",
    "STL provides a set of common classes for C++ that can be used with any built-in/user-defined type that supports some elementary operations. <br>\n",
    "STL algorithms are independent of containers, which significantly reduces the complexity of the library.<br>\n",
    "STL achieves its results through the use of templates. <br>\n",
    "STL was created as the first library of generic algorithms and data structures for C++.\n",
    "\n",
    "STL has four components\n",
    "\n",
    "- Algorithms\n",
    "- Containers\n",
    "- Functions\n",
    "- Iterators"
   ]
  },
  {
   "cell_type": "markdown",
   "metadata": {},
   "source": [
    "![title](img/stl001.png)"
   ]
  },
  {
   "cell_type": "markdown",
   "metadata": {},
   "source": [
    "### Container"
   ]
  },
  {
   "cell_type": "markdown",
   "metadata": {},
   "source": [
    "The Containers library is a generic collection of class templates and algorithms that allow programmers to easily implement common data structures. \n",
    "There are three classes of containers : sequence containers, associative containers, and unordered associative containers \n",
    "each of which is designed to support a different set of operations.\n",
    "\n",
    "The container \n",
    "- manages the storage space that is allocated for its elements and \n",
    "- provides member functions to access them, either directly or through iterators (objects with properties similar to pointers).\n",
    "\n",
    "Containers or container classes store objects and data. <br>There are in total seven standard “first-class” container classes  and three container adaptor classes and only seven header files that provide access to these containers or container adaptors.\n",
    "\n",
    "Sequence Containers:  implement data structures which can be accessed in a sequential manner.\n",
    "- <a href=\"#vector001\">vector</a>\n",
    "- <a href=\"#list001\">list</a>\n",
    "- <a href=\"#deque001\">deque</a>\n",
    "- <a href=\"#array001\">array</a>\n",
    "- <a href=\"#forward_list001\">forward_list</a>( Introduced in C++11)\n",
    "\n",
    "Container Adaptors :  provide a different interface for sequential containers.\n",
    "- <a href=\"#queue001\">queue</a>\n",
    "- <a href=\"#priority_queue001\">priority_queue</a>\n",
    "- <a href=\"#stack001\">stack</a>\n",
    "\n",
    "Associative Containers :  implement sorted data structures that can be quickly searched (O(log n) complexity).\n",
    "- <a href=\"#set001\">set</a>\n",
    "- <a href=\"#multiset001\">multiset</a>\n",
    "- <a href=\"#map001\">map</a>\n",
    "- <a href=\"#multimap001\">multimap</a>\n",
    "\n"
   ]
  },
  {
   "cell_type": "markdown",
   "metadata": {},
   "source": [
    "![title](img/stl002.png)"
   ]
  },
  {
   "cell_type": "markdown",
   "metadata": {},
   "source": [
    "### Simple containers"
   ]
  },
  {
   "cell_type": "markdown",
   "metadata": {},
   "source": [
    "### pair"
   ]
  },
  {
   "cell_type": "markdown",
   "metadata": {},
   "source": []
  },
  {
   "cell_type": "markdown",
   "metadata": {},
   "source": [
    "The pair container is a simple associative container consisting of a 2-tuple of data elements or objects, called 'first' and 'second', in that fixed order.<br>\n",
    "The STL 'pair' can be assigned, copied and compared. <br>"
   ]
  },
  {
   "cell_type": "markdown",
   "metadata": {},
   "source": [
    "### Sequences (arrays/linked lists): ordered collections"
   ]
  },
  {
   "cell_type": "markdown",
   "metadata": {},
   "source": [
    "### Array (C++11) <a class=\"anchor\" id=\"array001\"></a>"
   ]
  },
  {
   "cell_type": "markdown",
   "metadata": {},
   "source": [
    "static contiguous array class template\n",
    "std::array\n",
    "defined in header <array>\n",
    "\n",
    "template < class T,  std::size_t N > struct array;"
   ]
  },
  {
   "cell_type": "markdown",
   "metadata": {},
   "source": [
    "<pre>\n",
    "    TDF TYP                              VLT;          //value_type\n",
    "    TDF IMD                              SZT;               (STP)\n",
    "    TDF IMD                              DIT;               (DTP)\n",
    "    TDF IMD                        [CST_]ITR;    \n",
    "    TDF [CST] VLT&                 [CST_]REF;         (REF)\n",
    "    TDF [CST] TYP*                 [CST_]PTR;   // pointer;\n",
    "    TDF RIT&lt;[CST_]ITR&gt;       [CST_]RIT;   // reverse_iterator;\n",
    "</pre>"
   ]
  },
  {
   "cell_type": "markdown",
   "metadata": {},
   "source": [
    "<pre>\n",
    "#include &lt;initializer_list&gt;\n",
    "namespace std {\n",
    "    template &lt;class T, size_t N &gt; struct array;\n",
    "    template &lt;class T, size_t N&gt; bool operator§§§(const array&lt;T,N&gt;& x, const array&lt;T,N&gt;& y); //§§§ : ==, !=, &lt; &gt;, &lt;=, &gt;=\n",
    "    template &lt;class T, size_t N &gt; void swap(array&lt;T,N&gt;& x, array&lt;T,N&gt;& y) noexcept(noexcept(x.swap(y)));\n",
    "    template &lt;class T&gt; class tuple_size;\n",
    "    template &lt;class T, size_t N&gt; struct tuple_size&lt;array&lt;T, N&gt; &gt;;    \n",
    "    template &lt;size_t I, class T&gt; class tuple_element;\n",
    "    template &lt;size_t I, class T, size_t N&gt; struct tuple_element&lt;I, array&lt;T, N&gt; &gt;;\n",
    "    template &lt;size_t I, class T, size_t N&gt; constexpr [const] T&[&] get(const array&lt;T, N&gt;&[&]) noexcept;\n",
    "</pre>"
   ]
  },
  {
   "cell_type": "markdown",
   "metadata": {},
   "source": [
    "<pre>\n",
    "TPL &lt;CLS TYP, SZT N &gt; STC array {\n",
    "TYP //ITRm ; VLT; SZT(:SZT); DIT(:PDT); [CST_REF(VLT&) [CST_ PTR(TYP*); [CST_RIT(RIT&lt;[CST_]ITR&gt;) \n",
    "    TYP elems[N];                                               // exposition only\n",
    "FIL void fill(CST TYP& u);                                      //NIX CNS/CP/DST 4aggregate TP\n",
    "SWP void swap(TPC&) NIX(is_nothrow_swappable_v&lt;TYP&gt;);\n",
    "ITR CXP [CST_][RVS_]ITR        c[r]{begin|end}() [CST] NIX;     // iterators:\n",
    "CAP CXP STP       [max_]size() CST NIX;                         // capacity:\n",
    "    CXP bool      empty() CST NIX;          \n",
    "ACC CXP [CST_]REF {{OPR[]|at}(SZT n)|{front|back}()} [CST];     //acc:check4 IoBErr {no[|yes at}\n",
    "DAT CXP [CST] TYP* data()  [CST] NIX;                           //acc:element access:                               };\n",
    " \n",
    "TPL&lt;CLS TYP, CLS... UTP&gt; array(TYP, UTP...) -&gt; array&lt;TYP, 1 + sizeof...(UTP)&gt;;\n",
    "</pre>"
   ]
  },
  {
   "cell_type": "markdown",
   "metadata": {},
   "source": [
    "<b>Example</b>\n",
    "<pre>\n",
    "#include &lt;array&gt;\n",
    "std::array&lt;int, 5&gt; ary [[=] {9,7,5,3,1}];  //dcl Z ARY||5, [list|uniform] init; must provide |ary| else ERR\n",
    "ary.fill(4);                                     //fil all elts in ary with same value\n",
    "ary = {{0,1,2,3,4} | {9,8,7}};                   // okay [, elements 3 and 4 are set to 0!]; assign values to array\n",
    "ary = { 0, 1, 2, 3, 4, 5 };                      // not allowed, too many elements in initializer list!\n",
    "std::cout &lt;&lt; ary[1];  ary[2] = 6;          //Accessing array values using the subscript operator (no bounds-checking)\n",
    "ary.at(1) = 6;  ary.at(9) = 10;                  //ary elt 1 valid, sets it to val 6,(9,not invalid, throw error)\n",
    "std::cout &lt;&lt; \"len: \" &lt;&lt; ary.size();  //size\n",
    "std::sort(ary.[r]begin(), ary.[r]end());         // sort the array forwards / backwards\n",
    "for ([const] auto &elt : ary) show(element);                            //range-for\n",
    "auto it = ary.begin(); while(it != ary.end()){ f(*it); it++; }          //iterator\n",
    "std::for_each(ary.begin(), ary.end(), [](const int & elt){ f(elt); });  //iterate over ary using for_each STL algo\n",
    "\n",
    "</pre>"
   ]
  },
  {
   "cell_type": "markdown",
   "metadata": {},
   "source": [
    "### Vector <a class=\"anchor\" id=\"vector001\"></a>"
   ]
  },
  {
   "cell_type": "markdown",
   "metadata": {},
   "source": [
    "a dynamic array, like C array (i.e., capable of random access) with the ability to resize itself automatically when inserting or erasing an object. <br>\n",
    "Inserting an element to the back of the vector at the end takes amortized constant time. <br>\n",
    "Removing the last element takes only constant time, because no resizing happens. <br>\n",
    "Inserting and erasing at the beginning or in the middle is linear in time.<br>"
   ]
  },
  {
   "cell_type": "markdown",
   "metadata": {},
   "source": [
    "    //K : Container ; T : Type; NX : noexcept; A : Allocator; OPR : operator\n",
    "    #include &lt;initializer_list&gt; NS std {  /* code */ }"
   ]
  },
  {
   "cell_type": "markdown",
   "metadata": {},
   "source": [
    "<pre>\n",
    "TPL &lt;CLS TYP, STP N &gt; STC <b>array</b>;\n",
    "TTC bool OPR§§§(CST TPC& x, CST TPC& y); //§§§ : ==, !=, &lt; &gt;, &lt;=, &gt;=\n",
    "TTC void swap(TPC& x, TPC& y) NIX(NIX(x.swap(y)));\n",
    "TPL&lt;CLS TYP&gt; CLS tuple_size;\n",
    "TTC STC tuple_size&lt;TPC&gt;;    \n",
    "TPL&lt;STP I, CLS TYP&gt; CLS tuple_element;\n",
    "TPL&lt;STP I, CLS TYP, STP N&gt; STC tuple_element&lt;I, TPC&gt;;\n",
    "TPL&lt;STP I, CLS TYP, STP N&gt; CXP [CST] TYP&[&] get(CST TPC&[&]) NIX;  //constexpr = CXP\n",
    "</pre>    "
   ]
  },
  {
   "cell_type": "markdown",
   "metadata": {},
   "source": [
    "<pre>TPL &lt;CLS TYP, CLS CTN = deque&lt;TYP&gt;&gt; CLS <b>stack</b>;\n",
    "TTC bool OPR§§§(const TPC& x,const TPC& y);\n",
    "TTC void SWP(TPC& x, TPC& y) NIX(NIX(x.swap(y)));\n",
    "TPL &lt;CLS ALC&gt; struct uses_allocator&lt;TPC, ALC&gt; : uses_allocator&lt;CTN, ALC&gt;::type {}; }\n",
    "</pre>"
   ]
  },
  {
   "cell_type": "markdown",
   "metadata": {},
   "source": [
    "<pre>\n",
    "TPL &lt;[CLS TYP,] CLS ALC [= allocator&lt;TYP&gt;] &gt; CLS <b>vector</b>[&lt;bool,A&gt;];\n",
    "TTC bool OPR§§§(CST TPC& x,CST TPC& y);\n",
    "TTC void SWP(TPC& x, TPC& y);\n",
    "TPL &lt;CLS [TYP|ALC]&gt; struct hash[|&lt;vector&lt;bool, A&gt; &gt;];  // hash support }\n",
    "</pre>"
   ]
  },
  {
   "cell_type": "markdown",
   "metadata": {},
   "source": [
    "<pre>\n",
    "TPL &lt;CLS TYP, CLS CTN = deque&lt;TYP&gt;&gt; CLS <b>queue</b>;\n",
    "TTC bool OPR§§§(CST TPC& x,CST TPC& y);\n",
    "TTC void SWP(TPC& x, TPC& y) NIX(NIX(x.swap(y)));\n",
    "TTC TPL&lt;CLS ALC&gt; struct uses_allocator&lt;TPC, Alloc&gt; : uses_allocator&lt;CTN, ALC&gt;::type {}; }\n",
    "</pre>"
   ]
  },
  {
   "cell_type": "markdown",
   "metadata": {},
   "source": [
    "<pre>\n",
    "TPL &lt;CLS TYP, CLS CTN = vector&lt;TYP&gt;,CLS CMP = less &lt;TPN CTN::VAL_TYP&gt;&gt; CLS <b>priority_queue</b>;\n",
    "TTC void SWP(TPC& x, TPC& y) NIX(NIX(x.swap(y)));\n",
    "</pre>"
   ]
  },
  {
   "cell_type": "markdown",
   "metadata": {},
   "source": [
    "<pre>\n",
    "TPL &lt;CLS TYP, CLS ALC = alc&lt;TYP&gt;&gt; CLS <b>list</b>;\n",
    "TTC bool OPR§§§(CST TPC& x,CST TPC& y);\n",
    "TTC void SWP(TPC& x, TPC& y);\n",
    "</pre>"
   ]
  },
  {
   "cell_type": "markdown",
   "metadata": {},
   "source": [
    "<pre>\n",
    "TPL &lt;CLS KEY,CLS TYP, CLS CMP = less&lt;KEY&gt;,CLS ALC = alc&lt;PAR&lt;CST KEY,TYP&gt;&gt;&gt; CLS <b>map</b>;\n",
    "TTC bool OPR§§§(CST TPC& x,CST TPC& y);\n",
    "TTC void SWP(TPC& x, TPC& y) NIX(NIX(x.swap(y)));\n",
    "</pre>"
   ]
  },
  {
   "cell_type": "markdown",
   "metadata": {},
   "source": [
    "<pre>\n",
    "TPL &lt;CLS KEY,CLS TYP, CLS CMP = less&lt;KEY&gt;,CLS ALC = alc&lt;pair&lt;CST KEY,TYP&gt;&gt;&gt; CLS <b>multimap</b>;\n",
    "TTC bool OPR§§§(CST TPC& x,CST TPC& y);\n",
    "TTC void SWP(TPC& x, TPC& y) NIX(NIX(x.swap(y)));\n",
    "</pre>"
   ]
  },
  {
   "cell_type": "markdown",
   "metadata": {},
   "source": [
    "<pre>\n",
    "TPL &lt;CLS KEY,CLS TYP, CLS HAH = hash&lt;KEY&gt;,CLS PRD = std::equal_to&lt;KEY&gt;, CLS ALC = alc&lt;pair&lt;CST KEY,TYP&gt;&gt;&gt; CLS <b>unordered_map</b>;\n",
    "TTC void SWP(TPC& x, TPC& y);\n",
    "TTC bool OPR§§§(CST TPC& x,CST TPC& y);\n",
    "</pre>"
   ]
  },
  {
   "cell_type": "markdown",
   "metadata": {},
   "source": [
    "<pre>\n",
    "TPL &lt;CLS KEY,CLS TYP, CLS HAH = hash&lt;KEY&gt;,CLS PRD = std::equal_to&lt;KEY&gt;, CLS ALC = alc&lt;pair&lt;CST KEY,TYP&gt;&gt;&gt; CLS <b>unordered_multimap</b>;\n",
    "TTC void SWP(TPC& x, TPC& y);\n",
    "TTC bool OPR§§§(CST TPC& x,CST TPC& y);\n",
    "</pre>"
   ]
  },
  {
   "cell_type": "markdown",
   "metadata": {},
   "source": [
    "<pre>\n",
    "TPL &lt;CLS TYP, CLS ALC = alc&lt;TYP&gt;&gt; CLS <b>forward_list</b>;\n",
    "TTC void SWP(TPC& x, TPC& y);\n",
    "TTC bool OPR§§§(CST TPC& x,CST TPC& y);\n",
    "</pre>"
   ]
  },
  {
   "cell_type": "markdown",
   "metadata": {},
   "source": [
    "<pre>\n",
    "TPL &lt;CLS KEY, CLS CMP = less&lt;KEY&gt;,CLS ALC = alc&lt;KEY&gt;&gt; CLS <b>set</b>;\n",
    "TTC bool OPR§§§(CST TPC& x,CST TPC& y);\n",
    "TTC void SWP(TPC& x, TPC& y) NIX(NIX(x.swap(y)));\n",
    "</pre>"
   ]
  },
  {
   "cell_type": "markdown",
   "metadata": {},
   "source": [
    "<pre>\n",
    "TPL &lt;CLS KEY, CLS CMP = less&lt;KEY&gt;,CLS ALC = alc&lt;KEY&gt;&gt;  CLS <b>multiset</b>;\n",
    "TTC bool OPR§§§(CST TPC& x,CST TPC& y);\n",
    "TTC void SWP(TPC& x, TPC& y) NIX(NIX(x.swap(y)));\n",
    "</pre>"
   ]
  },
  {
   "cell_type": "markdown",
   "metadata": {},
   "source": [
    "<pre>\n",
    "TPL &lt;CLS KEY, CLS HAH = hash&lt;KEY&gt;,CLS PRD = std::equal_to&lt;KEY&gt;, CLS ALC = alc&lt;KEY&gt;&gt; CLS <b>unordered_set</b>;\n",
    "TTC void SWP(TPC& x, TPC& y);\n",
    "TTC bool OPR§§§(CST TPC& x,CST TPC& y);\n",
    "</pre>"
   ]
  },
  {
   "cell_type": "markdown",
   "metadata": {},
   "source": [
    "<pre>\n",
    "TPL &lt;CLS KEY, CLS HAH = hash&lt;KEY&gt;,CLS PRD = std::equal_to&lt;KEY&gt;, CLS ALC = alc&lt;KEY&gt;&gt; CLS <b>unordered_multiset</b>;\n",
    "TTC void SWP(TPC& x, TPC& y);\n",
    "TTC bool OPR§§§(CST TPC& x,CST TPC& y);\n",
    "</pre>"
   ]
  },
  {
   "cell_type": "markdown",
   "metadata": {},
   "source": [
    "<!--pre>\n",
    "TPL&lt;CLS TYP, CLS ALC = allocator&lt;T&gt; &gt; //CCL : vector\n",
    "class vector {\n",
    "public:\n",
    "    // types:\n",
    "    TDF [CST] value_type&                                        [CST_]reference;        (REF)\n",
    "    TDF /*implementation-defined*/                               [CST_]iterator;         (ITR)\n",
    "    TDF /*implementation-defined*/                               size_type;              (STP)\n",
    "    typedef /*implementation-defined*/                               difference_type;        (DTP)\n",
    "    typedef TYP                                                      value_type;             (VTP)\n",
    "    typedef ALC                                                      allocator_type;         (ATP)\n",
    "    typedef typename allocator_traits&lt;A&gt;::[CST_]pointer              [CST_]pointer;          (PTR)\n",
    "    typedef std::reverse_iterator&lt;[CST_]iterator&gt;                    [CST_]reverse_iterator; (RIT)\n",
    " \n",
    "    // construct/copy/destroy:\n",
    "    explicit CCL({CST ALC& = ALC() | STP n});\n",
    "    TPL&lt;CLS InITR&gt; CCL(InITR first, InITR last,CST ALC& = ALC());    \n",
    "    CCL(STP n, CST TYP& value,CST ALC& = ALC());\n",
    "    CCL(CST TPC& x);\n",
    "    CCL([CST] CCL&[&] [, CST ALC&]);\n",
    "    CCL(INI_LST&lt;TYP&gt;, CST ALC& = ALC());\n",
    "    ~CCL();\n",
    "    TC& OPR=([CS] TC&[&] x);\n",
    "    CC& OPR=(INI_LST&lt;TYP&gt;);\n",
    "    TPL&lt;CLS InITR&gt; void assign(TPT first, TPT last);\n",
    "    void assign({STP n, CST TYP& t | INI_LST&lt;TYP&gt;});\n",
    "    ALC_type get_ALC() CS NIX;\n",
    " \n",
    "    // iterators:\n",
    "    [CST_][RVS_]ITR          [c][r]{begin|end}() [const] noexcept; \n",
    " \n",
    "    // capacity:\n",
    "    STP       [max_]size() CS NIX;\n",
    "    void      resize(STP sz[, CST TYP& c]);\n",
    "    STP       capacity() CST NIX;\n",
    "    bool      empty() CST NIX;\n",
    "    void      reserve(STP n);\n",
    "    void      shrink_to_fit();\n",
    " \n",
    "    // element access:\n",
    "    [CST_]REF {OPR[]|at}(STP n) [CST];\n",
    "    [CST_]REF {front|back}() [CST];\n",
    " \n",
    "    //data access\n",
    "    [CST] TYP* data() [CST] NIX;\n",
    " \n",
    "    // modifiers:\n",
    "    TPL&lt;CLS... Args&gt; void emplace_back(Args&&... args);\n",
    "    void push_back({CST TYP&|TYP&&} x);\n",
    "    void pop_back();\n",
    " \n",
    "    TPL&lt;CLS... Args&gt; ITR emplace(CST_ITR position, Args&&... args);\n",
    "    ITR insert(CST_ITR position, {[STP n,] [CST] TYP&[&] x | INI_list&lt;TYP&gt;});\n",
    "    TPL&lt;CLS InITR&gt; ITR insert (CST_ITR position, InITR first, InITR last);\n",
    "    ITR erase({CST_ITR position | CST_ITR first, CST_ITR last});\n",
    "    void     swap(TPC&);\n",
    "    void     clear() NIX;\n",
    "};\n",
    "</pre-->"
   ]
  },
  {
   "cell_type": "markdown",
   "metadata": {},
   "source": [
    "<pre>\n",
    "TPL&lt;CLS TYP, CLS ALC = ALC&lt;T&gt; &gt; //CCL : vector\n",
    "CLS vector {\n",
    "PB:\n",
    "TYP //ITR; VLT; SZT; DIT; REF(VLT); TNM ALC_traits&lt;A&gt;::[CST_]PTR [CST_]PTR; std::RVS_ITR&lt;[CST_]ITR&gt;             [CST_]RVS_ITR;\n",
    "    TDF ALC                                       ALT;               (ATP)\n",
    "CNS XPL CCL({CST ALC& = ALC() | STP n});\n",
    "    TPL&lt;CLS InITR&gt; CCL(InITR first, InITR last,CST ALC& = ALC());    \n",
    "    CCL(STP n, CST TYP& value,CST ALC& = ALC());\n",
    "    CCL(CST TPC& x);\n",
    "    CCL([CST] CCL&[&] [, CST ALC&]);\n",
    "    CCL(INI_LST&lt;TYP&gt;, CST ALC& = ALC());  //~CCL();\n",
    "    TPC& OPR=([CST] TPC&[&] x);\n",
    "    CCL& OPR=(INI_LST&lt;TYP&gt;);\n",
    "    TPL&lt;CLS InITR&gt; void assign(TPT first, TPT last);\n",
    "    void assign({STP n, CST TYP& t | INI_LST&lt;TYP&gt;});\n",
    "    ALT get_ALC() CS NIX;\n",
    "ITR [CST_][RVS_]ITR          [c][r]{begin|end}() [CST] NIX;     \n",
    "CAP STP       [max_]size() CS NIX;\n",
    "    void      resize(STP sz[, CST TYP& c]);\n",
    "    STP       capacity() CST NIX;\n",
    "    bool      empty() CST NIX;\n",
    "    void      reserve(STP n);\n",
    "    void      shrink_to_fit();\n",
    "ACS [CST_]REF {{OPR[]|at}(STP n)|{front|back}()} [CST];\n",
    "DAT [CST] TYP* data() [CST] NIX;\n",
    "MOD TPL&lt;CLS... Args&gt; void emplace_back(Args&&... args);\n",
    "    void {push|pop}_back({{CST TYP&|TYP&&} x | });\n",
    "    TPL&lt;CLS... Args&gt; ITR emplace(CST_ITR position, Args&&... args);\n",
    "    ITR insert(CST_ITR position, {[STP n,] [CST] TYP&[&] x | INI_LST&lt;TYP&gt;});\n",
    "    TPL&lt;CLS InITR&gt; ITR insert (CST_ITR position, InITR first, InITR last);\n",
    "    ITR erase({CST_ITR position | CST_ITR first, CST_ITR last});\n",
    "    void     swap(TPC&);\n",
    "    void     clear() NIX;\n",
    "};\n",
    "</pre>"
   ]
  },
  {
   "cell_type": "markdown",
   "metadata": {
    "collapsed": true
   },
   "source": [
    "<pre>\n",
    "std::v ector<int> vec002; for(int i=0; i<100; ++i) vec002.push_back(i);\n",
    "</pre>"
   ]
  },
  {
   "cell_type": "markdown",
   "metadata": {},
   "source": [
    "https://secweb.cs.odu.edu/~zeil/cs361/web/website/Lectures/vectorImpl/page/vector5of8.gif"
   ]
  },
  {
   "cell_type": "markdown",
   "metadata": {},
   "source": [
    "### List <a class=\"anchor\" id=\"list001\"></a>"
   ]
  },
  {
   "cell_type": "markdown",
   "metadata": {},
   "source": [
    "a doubly linked list; elements are not stored in contiguous memory. <br>\n",
    "Opposite performance from a vector. <br>\n",
    "Slow lookup and access (linear time), but once a position has been found, quick insertion and deletion (constant time)."
   ]
  },
  {
   "cell_type": "markdown",
   "metadata": {},
   "source": [
    "### sList <a class=\"anchor\" id=\"slist001\"></a>"
   ]
  },
  {
   "cell_type": "markdown",
   "metadata": {},
   "source": [
    "a singly linked list; elements are not stored in contiguous memory. <br>\n",
    "Opposite performance from a vector. <br>\n",
    "Slow lookup and access (linear time), but once a position has been found, quick insertion and deletion (constant time). <br>\n",
    "It has slightly more efficient insertion and deletion, and uses less memory than a doubly linked list, but can only be iterated forwards. <br>\n",
    "It is implemented in the C++ standard library as forward_list."
   ]
  },
  {
   "cell_type": "markdown",
   "metadata": {},
   "source": [
    "### Deque <a class=\"anchor\" id=\"deque001\"></a> (double-ended queue)"
   ]
  },
  {
   "cell_type": "markdown",
   "metadata": {},
   "source": [
    "a vector with insertion/erase at the beginning or end in amortized constant time, \n",
    "however lacking some guarantees on iterator validity after altering the deque."
   ]
  },
  {
   "cell_type": "markdown",
   "metadata": {},
   "source": [
    "### Container adaptors"
   ]
  },
  {
   "cell_type": "markdown",
   "metadata": {},
   "source": [
    "### Queue <a class=\"anchor\" id=\"queue001\"></a>"
   ]
  },
  {
   "cell_type": "markdown",
   "metadata": {},
   "source": [
    "Provides FIFO queue interface in terms of push/pop/front/back operations.<br>\n",
    "Any sequence supporting operations front(), back(), push_back(), and pop_front() can be used to instantiate queue (e.g. list and deque)."
   ]
  },
  {
   "cell_type": "markdown",
   "metadata": {},
   "source": [
    "### Priority queue <a class=\"anchor\" id=\"priority_queue001\"></a>"
   ]
  },
  {
   "cell_type": "markdown",
   "metadata": {},
   "source": [
    "Provides priority queue interface in terms of push/pop/top operations (the element with the highest priority is on top).<br>\n",
    "Any random-access sequence supporting operations front(), push_back(), and pop_back() can be used to instantiate priority_queue (e.g. vector and deque). It is implemented using a heap.<br>\n",
    "Elements should additionally support comparison (to determine which element has a higher priority and should be popped first)."
   ]
  },
  {
   "cell_type": "markdown",
   "metadata": {},
   "source": [
    "### Stack <a class=\"anchor\" id=\"stack001\"></a>"
   ]
  },
  {
   "cell_type": "markdown",
   "metadata": {},
   "source": [
    "Provides LIFO stack interface in terms of push/pop/top operations (the last-inserted element is on top).<br>\n",
    "Any sequence supporting operations back(), push_back(), and pop_back() can be used to instantiate stack (e.g. vector, list, and deque)."
   ]
  },
  {
   "cell_type": "markdown",
   "metadata": {},
   "source": [
    "### Associative containers: unordered collections"
   ]
  },
  {
   "cell_type": "markdown",
   "metadata": {},
   "source": [
    "### Set <a class=\"anchor\" id=\"set001\"></a>"
   ]
  },
  {
   "cell_type": "markdown",
   "metadata": {},
   "source": [
    "a mathematical set; inserting/erasing elements in a set does not invalidate iterators pointing in the set. Provides set operations union, intersection, difference, symmetric difference and test of inclusion. Type of data must implement comparison operator < or custom comparator function must be specified; such comparison operator or comparator function must guarantee strict weak ordering, otherwise behavior is undefined. Typically implemented using a self-balancing binary search tree."
   ]
  },
  {
   "cell_type": "markdown",
   "metadata": {},
   "source": [
    "### Multiset <a class=\"anchor\" id=\"multiset001\"></a>"
   ]
  },
  {
   "cell_type": "markdown",
   "metadata": {},
   "source": [
    "same as a set, but allows duplicate elements (mathematical multiset)."
   ]
  },
  {
   "cell_type": "markdown",
   "metadata": {},
   "source": [
    "### Map <a class=\"anchor\" id=\"map001\"></a>"
   ]
  },
  {
   "cell_type": "markdown",
   "metadata": {},
   "source": [
    "an associative array; allows mapping from one data item (a key) to another (a value). Type of key must implement comparison operator < or custom comparator function must be specified; such comparison operator or comparator function must guarantee strict weak ordering, otherwise behavior is undefined. Typically implemented using a self-balancing binary search tree."
   ]
  },
  {
   "cell_type": "markdown",
   "metadata": {},
   "source": [
    "### Multimap <a class=\"anchor\" id=\"multimap001\"></a>"
   ]
  },
  {
   "cell_type": "markdown",
   "metadata": {},
   "source": [
    "same as a map, but allows duplicate keys."
   ]
  },
  {
   "cell_type": "markdown",
   "metadata": {},
   "source": [
    "### hash_set; hash_multiset; hash_map; hash_multimap <a class=\"anchor\" id=\"hash001\"></a>"
   ]
  },
  {
   "cell_type": "markdown",
   "metadata": {},
   "source": [
    "similar to a set, multiset, map, or multimap, respectively, but implemented using a hash table; keys are not ordered, but a hash function must exist for the key type. These types were left out of the C++ standard; similar containers were standardized in C++11, but with different names (unordered_set and unordered_map)."
   ]
  },
  {
   "cell_type": "markdown",
   "metadata": {},
   "source": [
    "### Other types of containers"
   ]
  },
  {
   "cell_type": "markdown",
   "metadata": {},
   "source": [
    "### Bitset <a class=\"anchor\" id=\"bitset001\"></a>"
   ]
  },
  {
   "cell_type": "markdown",
   "metadata": {},
   "source": [
    "stores series of bits similar to a fixed-sized vector of bools. Implements bitwise operations and lacks iterators. Not a sequence. Provides random access."
   ]
  },
  {
   "cell_type": "markdown",
   "metadata": {},
   "source": [
    "### valarray"
   ]
  },
  {
   "cell_type": "markdown",
   "metadata": {},
   "source": [
    "Another array data type, intended for numerical use (especially to represent vectors and matrices); the C++ standard allows specific optimizations for this intended purpose. According to Josuttis, valarray was badly designed, by people \"who left the [C++ standard] committee a long time before the standard was finished\", and expression template libraries are to be preferred.[3] A proposed rewrite of the valarray part of the standard in this vein was rejected, instead becoming a permission to implement it using expression template."
   ]
  },
  {
   "cell_type": "markdown",
   "metadata": {},
   "source": [
    "### Iterators"
   ]
  },
  {
   "cell_type": "markdown",
   "metadata": {},
   "source": [
    "STL implements five different types of iterators : <br>\n",
    "- input iterators (that can only be used to read a sequence of values), \n",
    "- output iterators (that can only be used to write a sequence of values), \n",
    "- forward iterators (that can be read, written to, and move forward), \n",
    "- bidirectional iterators (that are like forward iterators, but can also move backwards)\n",
    "- random access iterators (that can move freely any number of steps in one operation).\n",
    "\n",
    "It is possible to have bidirectional iterators act like random access iterators, so moving forward ten steps could be done by simply moving forward a step at a time a total of ten times. \n",
    "However, having distinct random access iterators offers efficiency advantages. \n",
    "For example, a vector would have a random access iterator, but a list only a bidirectional iterator.\n",
    "\n",
    "Iterators are the major feature that allow the generality of the STL. \n",
    "For example, an algorithm to reverse a sequence can be implemented using bidirectional iterators, and then the same implementation can be used on lists, vectors and deques. \n",
    "User-created containers only have to provide an iterator that implements one of the five standard iterator interfaces, and all the algorithms provided in the STL can be used on the container.\n",
    "\n",
    "This generality also comes at a price at times. \n",
    "For example, performing a search on an associative container such as a map or set can be much slower using iterators than by calling member functions offered by the container itself. \n",
    "This is because an associative container's methods can take advantage of knowledge of the internal structure, which is opaque to algorithms using iterators."
   ]
  },
  {
   "cell_type": "markdown",
   "metadata": {},
   "source": [
    "### Algorithms"
   ]
  },
  {
   "cell_type": "markdown",
   "metadata": {},
   "source": [
    "A large number of algorithms to perform activities such as searching and sorting are provided in the STL, <br>\n",
    "each implemented to require a certain level of iterator (work on any container that provides an interface by iterators).<br>\n",
    "Searching algorithms like binary_search and lower_bound use binary search<br> \n",
    "Sorting algorithms require that the type of data must implement comparison operator < or custom comparator function must be specified; <br>\n",
    "such comparison operator or comparator function must guarantee strict weak ordering. \n",
    "Algorithms are provided for \n",
    "- making heap from a range of elements, \n",
    "- generating lexicographically ordered permutations of a range of elements, \n",
    "- merge sorted ranges and \n",
    "- perform union, intersection, difference of sorted ranges.\n",
    "\n",
    "The header algorithm defines a collection of functions especially designed to be used on ranges of elements.\n",
    "They act on containers and provide means for various operations for the contents of the containers.\n",
    "\n",
    "Algorithm\n",
    "- Sorting\n",
    "- Searching\n",
    "- Important STL Algorithms\n",
    "- Useful Array algorithms\n",
    "- Partition Operations\n",
    "\n",
    "Numeric\n",
    "- valarray class"
   ]
  },
  {
   "cell_type": "markdown",
   "metadata": {},
   "source": [
    "### Functions"
   ]
  },
  {
   "cell_type": "markdown",
   "metadata": {},
   "source": [
    "STL includes classes that overload the function call operator (operator()). <br>\n",
    "Instances of such classes are called functors or function objects. <br>\n",
    "Functors allow the behavior of the associated function to be parameterized (e.g. through arguments passed to the functor's constructor) and <br>\n",
    "can be used to keep associated per-functor state information along with the function. <br>\n",
    "Since both functors and function pointers can be invoked using the syntax of a function call, they are interchangeable as arguments to templates when the corresponding parameter only appears in function call contexts.<br>\n",
    "A particularly common type of functor is the predicate.<br>\n",
    "For example, algorithms like find_if take a unary predicate that operates on the elements of a sequence. <br>\n",
    "Algorithms like sort, partial_sort, nth_element and all sorted containers use a binary predicate that must provide a strict weak ordering, that is, it must behave like a membership test on a transitive, non reflexive and asymmetric binary relation. <br>\n",
    "If none is supplied, these algorithms and containers use less by default, which in turn calls the less-than-operator <."
   ]
  },
  {
   "cell_type": "markdown",
   "metadata": {},
   "source": [
    "C++ Standard Library can be categorized into two parts : <br>\n",
    "Standard Function Library : consists of general-purpose,stand-alone functions that are not part of any class (inherited from C).<br>\n",
    "Object Oriented Class Library −: is a collection of classes and associated functions.<br>\n",
    "\n",
    "The Standard Function Library is\tdivided into the following categories −\n",
    "- I/O,\n",
    "- String and character handling,\n",
    "- Mathematical,\n",
    "- Time, date, and localization,\n",
    "- Dynamic allocation,\n",
    "- Miscellaneous,\n",
    "- Wide-character functions,\n",
    "\n",
    "The Object Oriented Class Library : defines an extensive set of classes that provide support for a number of common activities, including I/O, strings, and numeric processing. This library includes the following :<br>\n",
    "\n",
    "- The Standard C++ I/O Classes\n",
    "- The String Class\n",
    "- The Numeric Classes\n",
    "- The STL Container Classes\n",
    "- The STL Algorithms\n",
    "- The STL Function Objects\n",
    "- The STL Iterators\n",
    "- The STL Allocators\n",
    "- The Localization library\n",
    "- Exception Handling Classes\n",
    "- Miscellaneous Support Library"
   ]
  },
  {
   "cell_type": "markdown",
   "metadata": {},
   "source": [
    "C++11 https://en.wikipedia.org/wiki/C%2B%2B11 <br>\n",
    "C++14 https://en.wikipedia.org/wiki/C%2B%2B14<br>\n",
    "C++17 https://en.wikipedia.org/wiki/C%2B%2B17<br>\n",
    "C++20 https://en.wikipedia.org/wiki/C%2B%2B20"
   ]
  },
  {
   "cell_type": "markdown",
   "metadata": {
    "collapsed": true
   },
   "source": [
    "<!-- https://www.geeksforgeeks.org/vector-in-cpp-stl/<br>\n",
    "http://www.cplusplus.com/reference/array/array/array/<br>\n",
    "https://github.com/msharov/ustl<br>\n",
    "http://www.tenouk.com/Module20.html<br>\n",
    "http://en.cppreference.com/w/cpp/header/array<br>\n",
    "https://github.com/andysworkshop/avr-stl<br>\n",
    "https://github.com/apache/stdcxx<br>\n",
    "https://github.com/Apress/using-cpp-standard-template-libraries<br>\n",
    "https://github.com/banga/Library<br>\n",
    "https://github.com/electronicarts/EASTL/blob/master/include/EASTL/stack.h<br>\n",
    "https://www.geeksforgeeks.org/fast-io-for-competitive-programming/<br>\n",
    "https://github.com/ackoroa/UVa-Solutions<br>\n",
    "https://cpbook.net/methodstosolve<br>\n",
    "https://github.com/heineman/algorithms-nutshell-2ed<br>\n",
    "https://github.com/haseebr/competitive-programming/tree/master/Materials<br>\n",
    "https://www.pythonsheets.com/notes/python-crypto.html  Python cryptography cheatsheet<br>\n",
    "http://www.kasahara.elec.waseda.ac.jp/schedule/making_e.html#robot<br>\n",
    "http://ipcc.cs.uoregon.edu/lectures/http://ipcc.cs.uoregon.edu/lectures/<br>\n",
    "https://gist.github.com/kidpixo/f4318f8c8143adee5b40 notebook shortcut<br>\n",
    "https://lectures.quantecon.org/py/python_by_example.html <br>\n",
    "https://github.com/matthewfieger/wiener_process<br>\n",
    "https://dbader.org/blog/understanding-asynchronous-programming-in-python<br>\n",
    "http://hplgit.github.io/teamods/MC_cython/main_MC_cython.html<br>\n",
    "http://www.turingfinance.com/random-walks-down-wall-street-stochastic-processes-in-python/<br>\n",
    "http://nbviewer.jupyter.org/github/StuartGordonReid/Python-Notebooks/blob/master/Stochastic%20Process%20Algorithms.ipynb<br>\n",
    "http://python-for-signal-processing.blogspot.com/2012/11/conditional-expectation-and-mean.html<br>\n",
    "http://www.quantatrisk.com/2016/12/08/conditional-value-at-risk-normal-student-t-var-model-python/<br>\n",
    "https://github.com/unpingco/Python-for-Signal-Processing<br>\n",
    "ftp://nozdr.ru/biblio/kolxo3/M/<br>\n",
    "https://gist.github.com/sebastien-bratieres/0295aaa9a4d4acab4a0d<br>\n",
    "http://nbviewer.jupyter.org/github/pminkov/notebooks/blob/master/k-means%20clustering.ipynb<br>\n",
    "https://www.codeproject.com/Articles/570638/Ten-Cplusplus11-Features-Every-Cplusplus-Developer\n",
    "-->"
   ]
  },
  {
   "cell_type": "code",
   "execution_count": null,
   "metadata": {
    "collapsed": true
   },
   "outputs": [],
   "source": []
  }
 ],
 "metadata": {
  "kernelspec": {
   "display_name": "Python 3",
   "language": "python",
   "name": "python3"
  },
  "language_info": {
   "codemirror_mode": {
    "name": "ipython",
    "version": 3
   },
   "file_extension": ".py",
   "mimetype": "text/x-python",
   "name": "python",
   "nbconvert_exporter": "python",
   "pygments_lexer": "ipython3",
   "version": "3.6.1"
  }
 },
 "nbformat": 4,
 "nbformat_minor": 2
}
