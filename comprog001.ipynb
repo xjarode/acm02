{
 "cells": [
  {
   "cell_type": "markdown",
   "metadata": {},
   "source": [
    "# Competitive Programming"
   ]
  },
  {
   "cell_type": "markdown",
   "metadata": {},
   "source": [
    "- sites.google.com/site/stevenhalim<br>\n",
    "- uhunt.felix-halim.net <br>\n",
    "- uva.onlinejudge.org <br>\n",
    "- www.comp.nus.edu.sg/~stevenha/visualization"
   ]
  },
  {
   "cell_type": "markdown",
   "metadata": {},
   "source": [
    "## Competitive programming"
   ]
  },
  {
   "cell_type": "markdown",
   "metadata": {},
   "source": [
    "Given well-known (already solved) Computer Science (CS) problems, solve them as quickly as possible <br>\n",
    "To ‘solve them’ implies that we must push our CS knowledge to a certain required level so that we can produce working code that can solve these problems too—at least in terms of getting the same output as the problem author using the problem author’s secret2 test data within the stipulated time limit."
   ]
  },
  {
   "cell_type": "markdown",
   "metadata": {},
   "source": [
    "### 1.2 Tips to be Competitive"
   ]
  },
  {
   "cell_type": "markdown",
   "metadata": {},
   "source": [
    "- 1.2.1 Tip 1: Type Code Faster!\n",
    "- 1.2.2 Tip 2: Quickly Identify Problem Types\n",
    "\n",
    "| ID     | Category | Typical problems | \n",
    "|:---    |:---      | :------------------------------------- |\n",
    "| 01.AH  | Ad Hoc | AH |\n",
    "| 02.CS  | Complete Search <br>(Iterative / Recursive / backtrinking) | Search | \n",
    "| 03.DC  | Divide and Conquer | Merge Sort |\n",
    "| 04.GD  | Greedy | Task-scheduling; Huffman codes; Min Spanning Tree Prims, Kruskal | \n",
    "| 05.DP  | Dynamic Programming | Rod cutting; Matrix-chain multiplication; Longest common subsequence; binary search trees | \n",
    "| 06.GR  | Graph | Floyd Warshall |\n",
    "| 07.MT  | Mathematics | Number theory, probability, combinatoric |\n",
    "| 08.SP  | String Processing | Knuth-Morris |\n",
    "| 09.CG  | Computational Geometry | Hull convex |\n",
    "| 10.MS  | Harder/Rare Problems | Miscillinuous |\n",
    "\n",
    "- 1.2.3 Tip 3: Do Algorithm Analysis\n",
    "\n",
    "Designed algorithm $A$ to solve problem $P$, Given max input bound/size ($MIB$/$S$), can $A$, with its time/space complexity, pass the time/memory limit given for $P$?<br>\n",
    "Information : Computers can process up to $≈ 100M$ ($10^8$) operations in a second (Frequency O/s) (used to determine if $A$ will run in time).\n",
    "\n",
    "4X : if (MIB $n=100K=10^5$) & ($A$ has a time complexity of $O(n^2)$) then $A$ will require $(10^5)^2/10^8=100$ seconds to run (Fail to be in time limit).<br>\n",
    "4X : if (MIB $n=100K=10^5$) & ($A$ with O(n log2 n)) then run time is $10^5 log_2 10^5/10^8 = 1.7 × 10^{-2}$ (Success to be in time limit) \n",
    "\n",
    "Basic time and space complexity analysis for algorithms:<br>\n",
    "– $A$ with $k$-nested loops of about $n$ iterations each has $O(n^k)$ complexity.<br>\n",
    "– $A$ is recursive with b recursive calls per level and has L levels, complexity is $O(b^L)$ (upper bound)<br>\n",
    "– $A$ a DP/iterative algo processing a 2D $n×n$ matrix in $O(k)$ per cell runs in $O(k × n^2)$ time.\n",
    "\n",
    "- 1.2.4 Tip 4: Master Programming Languages\n",
    "- 1.2.5 Tip 5: Master the Art of Testing Code\n",
    "- 1.2.6 Tip 6: Practice and More Practice\n",
    "- 1.2.7 Tip 7: Team Work (for ICPC)"
   ]
  },
  {
   "cell_type": "markdown",
   "metadata": {},
   "source": [
    "\n",
    "| ID | PROBLEM | DESCRIPTION | ====INPUTFORMAT==== | ====OUTPUTFORMAT=== | ===SAMPLE=INPUT=== | ====SAMPLE=OUTPUT=== |\n",
    "|:-- |:--      |:--          |:--          |:--           |:--           |:--            |\n",
    "| 10911 | PB10911 | Let $(x, y)$ be the coordinates of a student’s house on a 2D plane. There are $2N$ students and we want to pair them into $N$ groups. <br>Let $d_i$ be the distance between the houses of $2$ students in group $i$. <br> Form $N$ groups such that $cost = \\sum_{i=1}^N d_i$ is minimized. | Constraints: $1 \\le N \\le 8$ & $0 \\le x, y \\le 1000$. | the minimum cost | N = 2; Coordinates of the 2N = 4 houses are {1, 1}, {8, 6}, {6, 8}, and {1, 3}. | cost = 4.83. |"
   ]
  },
  {
   "attachments": {},
   "cell_type": "markdown",
   "metadata": {
    "collapsed": true
   },
   "source": [
    "<!--![image.png](attachment:image.png)-->"
   ]
  },
  {
   "cell_type": "markdown",
   "metadata": {},
   "source": [
    "- Exercise 1.1.1: Give a counter example showing that greedy strategy not work for problem $UV-PB10911$\n",
    "- Exercise 1.1.2: Analyze the time complexity of the naıtive complete search solution for $UV-PB10911$ why it is TLE \n",
    "- Exercise 1.1.3*: Solve $UV-PB10911$ using recursive backtracking solution with pruning"
   ]
  },
  {
   "cell_type": "markdown",
   "metadata": {},
   "source": [
    "### 1.3 Getting Started: The Easy Problems"
   ]
  },
  {
   "cell_type": "markdown",
   "metadata": {},
   "source": [
    "#### 1.3.1 Anatomy of a Programming Contest Problem\n",
    "- 1 Problem description\n",
    "- 2 Input / Output decription (constraints)\n",
    "- 3 Input.Output Sample\n",
    "- 4 Hints"
   ]
  },
  {
   "cell_type": "markdown",
   "metadata": {},
   "source": [
    "#### 1.3.2 Typical Input/Output Routines"
   ]
  },
  {
   "cell_type": "markdown",
   "metadata": {},
   "source": [
    "### 1.4 The Ad Hoc Problems"
   ]
  },
  {
   "cell_type": "markdown",
   "metadata": {},
   "source": [
    "## Probleme solving with computer steps :"
   ]
  },
  {
   "cell_type": "markdown",
   "metadata": {},
   "source": [
    "### 1- Problem description"
   ]
  },
  {
   "cell_type": "markdown",
   "metadata": {},
   "source": [
    "<b>Problem</b> : description goal<br>\n",
    "<b>Input</b> : inputs size and format.<br>\n",
    "<b>Output</b> : outputs size and format"
   ]
  },
  {
   "cell_type": "markdown",
   "metadata": {},
   "source": [
    "### 2- Designing algorithms (Design techniques DT)"
   ]
  },
  {
   "cell_type": "markdown",
   "metadata": {},
   "source": [
    "- <b>Incremental approach</b><br>\n",
    "- <b>Divide and conquer approach</b><br>"
   ]
  },
  {
   "cell_type": "markdown",
   "metadata": {},
   "source": [
    "##### 2.2 The divide-and-conquer approach"
   ]
  },
  {
   "cell_type": "markdown",
   "metadata": {},
   "source": [
    "$ALG$ is recursive in structure: to solve $PB_a$, ALG call itself recursively $t^+$ to deal with closely related $PB_\\downarrow^+$.<br>\n",
    "$ALG$ typically follows $DC$ approach: $ALG$ \n",
    "- <b>Divide</b> (break) $PB_a$ into nb of $PB_\\downarrow^+$ that are similar instances to $PB_0$ but smaller in size.\n",
    "- <b>Conquer</b> (solve) $PB_\\downarrow^+$ recursively, (If  $|PB_\\downarrow|^+ \\sim $ small enough, just solve them in a straightforward manner).\n",
    "- <b>Combine</b> these $SOL^+$ to create $SOL_a$ to $PB_0$."
   ]
  },
  {
   "cell_type": "markdown",
   "metadata": {},
   "source": [
    "### 3- Correctness of Algorithm"
   ]
  },
  {
   "cell_type": "markdown",
   "metadata": {},
   "source": [
    "#### <b>Loop invariants ($\\phi_{LI}$) and the correctness of algorithm</b>"
   ]
  },
  {
   "cell_type": "markdown",
   "metadata": {},
   "source": [
    "We state ceratins properties of the subarray $A[1..j-1]$ formally as a $\\phi_{LI}$: <br>\n",
    "At the start of each iteration of the loop (IoL for), $A[1..j-1]$ consists of the elements originally in $A[1..j-1]$, but in sorted order.<br>\n",
    "$\\phi_{LI}$ is used to help us understand why an algorithm is correct. we must show three things (holds) about a $\\phi_{LI}$:<br>\n",
    "\n",
    "<b>Initialization ($\\phi_I$)</b> : $\\phi_{LI} \\sim $ T before/prior to IoL[1] (first).  (base case)<br>\n",
    "<b>Maintenance ($\\phi_M$)</b> : If $\\phi_{LI} \\sim $ T before IoL[i], $\\phi_{LI}$ remains T after running IoL[i] and before IoL[i+1] (next, each ITR maintains LI).  (inductive step)<br>\n",
    "<b>Termination ($\\phi_T$)</b> : When the loop terminates, $\\phi_{LI}$ gives us a useful property that helps show that the algo is correct.\n",
    "\n",
    "we use $\\phi_{LI}$ along with the <b>termination property</b> ($\\phi_{TR}$) condition that caused LOP to terminate) to show correctness. (stop 'induction' when LOP terminates)."
   ]
  },
  {
   "cell_type": "markdown",
   "metadata": {},
   "source": [
    "### 4- Analysis of Algorithms"
   ]
  },
  {
   "cell_type": "markdown",
   "metadata": {},
   "source": [
    "AA = predicting the resources that the algorithm requires. \n",
    "Resources = memory, communication bandwidth, computer hardware, computational time (cpu)<br>\n",
    "\n",
    "- Goal : Generally, AA several candidate ALG* for a PB, to identify a most efficient ALG. <br>\n",
    "Before AA, we must have a model of the implementation technology that we will use, including a model for the resources of that technology and their costs. <br>\n",
    "\n",
    "- Assume on Model : a generic one CPU, RAM model of computation as IMP TCH and understand that ALG will be implemented as computer PRGs.<br>\n",
    "In the RAM model, instructions are executed one after another, with no concurrent operations.\n",
    "\n",
    "we should precisely define the instructions of the RAM model and their costs. \n",
    "\n",
    "- A- The RAM- model contains instructions commonly found in real computers:<br>\n",
    "1- arithmetic (such as add, subtract, multiply, divide, remainder, floor, ceiling), <br>\n",
    "2- data movement (load, store, copy), and control ((un)-conditional branch, subroutine call and return). \n",
    "Each such INST takes a constant amount of time.\n",
    "\n",
    "- B- The data types in the RAM model are integer and floating point (for storing real numbers). We also assume \n",
    "not concern ourselves with precision\n",
    "a limit on the size of each word of data. \n",
    "\n",
    "<!--4x, when working with inputs of size $n$, assume that integers are represented by $c lg n$ bits for some constant $c \\ge 1$.\n",
    "\n",
    "We require $c \\ge 1$ so that each word can hold the value of $n$, enabling us to index the\n",
    "individual input elements, and we restrict $c$ to be a constant so that the word size does not grow arbitrarily. \n",
    "\n",
    "Even for $IN^*$ of a given size, an ALG.$t_R$ may depend on which $IN$ of that size is given.<br-->\n",
    "\n",
    "<!--\n",
    "Real computers contain instructions not listed above, and such instructions represent a gray area in the RAM model. \n",
    "For example, is exponentiation a constanttime instruction? \n",
    "In the general case, no; it takes several instructions to compute xy when x and y are real numbers. \n",
    "In restricted situations, however, exponentiation is a constant-time operation. \n",
    "Many computers have a “shift left” instruction, which in constant time shifts the bits of an integer by k positions to the left. In most computers, shifting the bits of an integer by one position to the left is equivalent to multiplication by 2, so that shifting the bits by k positions to the left is equivalent to multiplication by 2k. \n",
    "\n",
    "Therefore, such computers can compute 2k in one constant-time instruction by shifting the integer 1 by k positions to the left, as long as k is no more than the number of bits in a computer word. We will endeavor to avoid such gray areas in the RAM model, but we will treat computation of 2k as a constant-time operation when k is a small enough positive integer.\n",
    "\n",
    "In the RAM model, we do not attempt to model the memory hierarchy that is common in contemporary computers. That is, we do not model caches or virtual memory. Several computational models attempt to account for memory-hierarchy\n",
    "effects, which are sometimes significant in real programs on real machines. A\n",
    "handful of problems in this book examine memory-hierarchy effects, but for the\n",
    "most part, the analyses in this book will not consider them. Models that include\n",
    "the memory hierarchy are quite a bit more complex than the RAM model, and so\n",
    "they can be difficult to work with. Moreover, RAM-model analyses are usually\n",
    "excellent predictors of performance on actual machines.\n",
    "Analyzing even a simple algorithm in the RAM model can be a challenge. The\n",
    "mathematical tools required may include combinatorics, probability theory, algebraic\n",
    "dexterity, and the ability to identify the most significant terms in a formula.\n",
    "Because the behavior of an algorithm may be different for each possible input, we\n",
    "need a means for summarizing that behavior in simple, easily understood formulas.\n",
    "Even though we typically select only one machine model to analyze a given algorithm,\n",
    "we still face many choices in deciding how to express our analysis. We\n",
    "would like a way that is simple to write and manipulate, shows the important characteristics\n",
    "of an algorithm’s resource requirements, and suppresses tedious details.\n",
    "-->"
   ]
  },
  {
   "cell_type": "markdown",
   "metadata": {},
   "source": [
    "### 5- Implementation of Algorithm"
   ]
  },
  {
   "cell_type": "markdown",
   "metadata": {},
   "source": [
    "coding with prog lang"
   ]
  },
  {
   "cell_type": "markdown",
   "metadata": {},
   "source": [
    "# Example"
   ]
  },
  {
   "cell_type": "markdown",
   "metadata": {},
   "source": [
    "## A- INSERTION SORT Algorithm"
   ]
  },
  {
   "cell_type": "markdown",
   "metadata": {},
   "source": [
    "### 1- Problem description"
   ]
  },
  {
   "cell_type": "markdown",
   "metadata": {
    "collapsed": true
   },
   "source": [
    "<b>Problem</b> : <i>sorting a sequece of numbers</i><br>\n",
    "<b>Input</b> : A (input) sequence of $n$ numbers $A = [a_1, a_2, \\cdots, a_n]$.<br>\n",
    "<b>Output</b> : A permutation (reordering) $A^{'} =[a^{'}_1, a^{'}_2, \\cdots, a^{'}_n]$ of $A$ such that $a^{'}_1 \\le a^{'}_2 \\le  \\cdots \\le a^{'}_n$. ($\n",
    "\\Phi(A) = A^{'} \\mid \\forall i \\in [1,n-1],  a^{'}_i \\le a^{'}_{i+1} \n",
    "$)"
   ]
  },
  {
   "cell_type": "markdown",
   "metadata": {},
   "source": [
    "### 2- Designing algorithm"
   ]
  },
  {
   "cell_type": "markdown",
   "metadata": {},
   "source": [
    "Technique : <b>incremental approach</b><br>\n",
    "\n",
    "<pre>\n",
    "<b>INSERTION-SORT(A)</b>\n",
    " for j ← 2 to length[A]\n",
    "     key ← A[j]\n",
    "     ▹ Insert A[j] into the sorted sequence A[1  j - 1].\n",
    "     i ← j - 1\n",
    "     while i > 0 and A[i] > key\n",
    "         A[i + 1] ← A[i]\n",
    "         i ← i - 1\n",
    "     A[i + 1] ← key\n",
    "</pre>"
   ]
  },
  {
   "cell_type": "markdown",
   "metadata": {},
   "source": [
    "### 3- Correctness of algorithm"
   ]
  },
  {
   "cell_type": "markdown",
   "metadata": {},
   "source": [
    "$\\phi_I$ : when $j=2$, $A[1..j]=[A[1]]$, it is sorted (trivially) then $\\phi_{LI}$ holds prior to $L[1]$.<br>\n",
    "\n",
    "$\\phi_M$ : Informally, the body of $LOP[for]$ works by moving $A[j-1],A[j-2],A[j-3],\\cdots$ by one position to the right\n",
    "until it finds the proper position for $A[j]$, at which point it inserts the value of $A[j]$.<br> \n",
    "$A[1..j]$ then consists of the elements originally in $A[1..j]$, but in sorted order. <br>\n",
    "Incrementing $j$ for the next iteration of the for loop then preserves the loop invariant.\n",
    "\n",
    "$\\phi_T$ : $\\phi_{TR} = j > A.length = n $ . Because\n",
    "each ITR increases $j$ by $1$, we must have $j= n + 1$ at that time.\n",
    "Substituting $n + 1$ for $j$ in $\\phi_{LI}$, we have that A[1,..,n] consists of the elements originally in A[1,..,n], but in sorted order. A[1,..,n] is the entire array, we conclude that the entire array is sorted. <br>\n",
    "The algorithm is correct."
   ]
  },
  {
   "cell_type": "markdown",
   "metadata": {},
   "source": [
    "### 4 Analyzing algorithms (ALZ)"
   ]
  },
  {
   "cell_type": "markdown",
   "metadata": {},
   "source": [
    "The time taken by INSERTION-SORT ALG ...\n",
    "\n",
    "<!--\n",
    "The time taken by INSERTION-SORT ALG depends on IN : (sorting a n nbs takes longer than sorting p nbs p < n). <br>\n",
    "INSERTIONSORT can take different amounts of time to sort two INs of the same size depending on how nearly sorted they already are. <br>\n",
    "In general, the time taken by ALG grows with |IN|, to describe the running time of PRG as FC(|IN|). \n",
    "\n",
    "The best notion for input size depends on the problem being studied. \n",
    "For many problems, such as sorting or computing discrete Fourier transforms, the most natural measure is the number of items in the input—for example, the array size n for sorting. \n",
    "For many other problems, such as multiplying two integers, the best measure of input size is the total number of bits needed to represent the input in ordinary binary notation. \n",
    "Sometimes, it is more appropriate to describe the size of the input with two numbers rather than one. \n",
    "For instance, if the input to an algorithm is a graph, the input size can be described by the numbers of vertices and\n",
    "edges in the graph. \n",
    "We shall indicate which input size measure is being used with each problem we study.\n",
    "\n",
    "The running time of an algorithm on a particular input is the number of primitive operations or “steps” executed. \n",
    "It is convenient to define the notion of step so that it is as machine-independent as possible. \n",
    "For the moment, let us adopt the following view. \n",
    "\n",
    "A constant amount of time is required to execute each line of our pseudocode. \n",
    "One line may take a different amount of time than another line, but we shall assume that each execution of the i th line takes time ci, where ci is a constant. \n",
    "\n",
    "This viewpoint is in keeping with the RAM model, and it also reflects how the pseudocode would be implemented on most actual computers.5\n",
    "\n",
    "In the following discussion, our expression for the running time of INSERTIONSORT will evolve from a messy formula that uses all the statement costs ci to a much simpler notation that is more concise and more easily manipulated. \n",
    "\n",
    "This simpler notation will also make it easy to determine whether one algorithm is more efficient than another.\n",
    "-->\n",
    "\n",
    "INSERTION-SORT ALG : time 'cost' of each STM & number of times (NoT) each STM is executed. \n",
    "\n",
    "For each $j = 2,3,..,n$, where $n = A.length$, \n",
    "- Let $t_j$ denote NoT(LOP[while.Test) is executed for that value of $j$. \n",
    "- When a LOP[FOR|WHL exits in the usual way (due to the test in LOP.header), Test is executed one time more than LOP.body. \n",
    "- Assume : comments are not executable statements (take no time).\n"
   ]
  },
  {
   "attachments": {
    "image.png": {
     "image/png": "[encoded data removed]"
    }
   },
   "cell_type": "markdown",
   "metadata": {},
   "source": [
    "![image.png](attachment:image.png)"
   ]
  },
  {
   "cell_type": "markdown",
   "metadata": {},
   "source": [
    "- $t_R[ALG] \\sim \\sum t_R^*[$  each STM executed $]$; \n",
    "- STM that takes $c_i$ steps to execute  $n$ times will contribute $c_i*n$ to the total $t_R$.\n",
    "- To compute $T(n) = t_R[$ INSERTION-SORT / |IN|= n$]$, sum the products of the cost and times columns, obtaining\n",
    "\n",
    "$$T(n) = c_1.n + c_2.(n - 1) + c_4.(n - 1) + c_5. \\sum_{j=2}^n t_j + c_6.\\sum_{j=2}^n (t_j-1) + c_7. \\sum_{j=2}^n (t_j-1) + c_8.(n - 1)$$"
   ]
  },
  {
   "cell_type": "markdown",
   "metadata": {},
   "source": [
    "<b>Cases Separation</b>\n",
    "\n",
    "<b>BEST CASE</b> : the array $A$ is already sorted.<br>\n",
    "$\\forall j \\in \\{2,3,..,n\\}$, find that $A[i] \\le key$ when $i$ has its initial value of $j-1 \\implies t_j = 1$ :\n",
    "\n",
    "$$T(n) = c_1.n + c_2.(n - 1) + c_4.(n - 1) + c_5.(n - 1) + c_8.(n - 1) = (c_1 + c_2 + c_4 + c_5 + c_8).n - (c_2 + c_4 + c_5 + c_8) = a.n +b$$\n",
    "\n",
    "$t_R = a.n +b$, constants $a$ & $b$ that depend on the statement costs $c_i$; <b>linear function</b> of $n$.\n",
    "\n",
    "<b>WORST CASE</b> : the array $A$ is in reverse sorted order.<br>\n",
    "$\\forall j \\in \\{2,3,..,n\\}$, Each element $A[j]$ must compared with each element in the entire sorted $A[1,..,j-1] \\implies t_j = j$.\n",
    "\n",
    "$$\n",
    "T(n) = c_1.n + c_2.(n - 1) + c_4.(n - 1) + c_5.(1+n(n + 1)/2) + c_6.(n(n - 1)/2) + c_7.(n(n - 1)/2) + c_8.(n - 1) \\\\\n",
    "= (c_5/2 + c_6/2 + c_7/2).n^2 + (c_1 + c_2 + c_4 + c_5/2 + c_6/2 + c_7/2 + c_8).n - (c_2 + c_4 + c_5 + c_8) \\\\\n",
    "T(n) = a.n^2 + b.n + c\n",
    "$$\n",
    "\n",
    "$t_R = a.n^2 + b.n + c$, constants $a$, $b$ & $c$ that depend on the statement costs $c_i$; <b>quadratic function</b> of $n$.\n"
   ]
  },
  {
   "cell_type": "markdown",
   "metadata": {},
   "source": [
    "### 5- Implementation of algorithm"
   ]
  },
  {
   "cell_type": "markdown",
   "metadata": {},
   "source": [
    "<pre>//JAVA\n",
    "void insertionSort(int A[]){\n",
    "  int i, j, key, n;\n",
    "  n = sizeof(A);\n",
    "  for (j = 2; j < n; j++){      \n",
    "    key = A[j];\n",
    "    i = j-1;\n",
    "    while (i > 0) && (A[j] > key){\n",
    "      A[j] = A[j-1];\n",
    "      i = i - 1;\n",
    "    }\n",
    "    A[i + 1] = key;     \n",
    "  }\n",
    "}\n",
    "</pre>"
   ]
  },
  {
   "cell_type": "code",
   "execution_count": 2,
   "metadata": {},
   "outputs": [
    {
     "name": "stdout",
     "output_type": "stream",
     "text": [
      "[0, 1, 2, 3, 4, 5, 7, 8, 9]\n"
     ]
    }
   ],
   "source": [
    "#PYTHON\n",
    "def insertionSort(A):\n",
    "    for j in range(1,len(A)):\n",
    "        key = A[j]\n",
    "        i = j-1\n",
    "        while i >= 0 and A[i] > key:\n",
    "            A[i+1] = A[i]\n",
    "            i = i-1\n",
    "        A[i+1] = key\n",
    "    return A\n",
    "\n",
    "#Tests\n",
    "A = [5,2,4,3,9,1,8,0,7]\n",
    "print(insertionSort(A))"
   ]
  },
  {
   "cell_type": "markdown",
   "metadata": {},
   "source": [
    "### 6 Emperical Analysis of algorithm"
   ]
  },
  {
   "cell_type": "code",
   "execution_count": 14,
   "metadata": {
    "collapsed": true
   },
   "outputs": [],
   "source": [
    "\"\"\"\n",
    "source : alganal.py\n",
    "Description: A utility program to plot algorithmic time complexity of a function.\n",
    "Author: Mahesh Venkitachalam\n",
    "Website: electronut.in\n",
    "\"\"\"\n",
    "\n",
    "from matplotlib import pyplot\n",
    "import timeit                                #\n",
    "from functools import partial\n",
    "\n",
    "# Run timer and plot time complexity\n",
    "def plotTC(fn, nMin, nMax, nInc, nTests):    \n",
    "    x = [];  y = []\n",
    "    for N in range(nMin, nMax, nInc):  #        N = i\n",
    "        testNTimer = timeit.Timer(partial(fn, N))\n",
    "        t = testNTimer.timeit(number=nTests)\n",
    "        x.append(N); y.append(t)\n",
    "    p1 = pyplot.plot(x, y, 'o')      #pyplot.legend([p1,], [fn.__name__, ])\n",
    "\n",
    "#\n",
    "def plotFunctions(fcts):\n",
    "    for f in fcts: plotTC(f, 10, 1000, 10, 10)    # enable this in case you want to set y axis limits    #pyplot.ylim((-0.1, 0.5))\n",
    "    pyplot.show()   # show plot"
   ]
  },
  {
   "cell_type": "code",
   "execution_count": 18,
   "metadata": {},
   "outputs": [
    {
     "name": "stdout",
     "output_type": "stream",
     "text": [
      "Analyzing Algorithms...\n"
     ]
    },
    {
     "data": {
      "image/png": "[encoded data removed]",
      "text/plain": [
       "<matplotlib.figure.Figure at 0xc34ca797f0>"
      ]
     },
     "metadata": {},
     "output_type": "display_data"
    }
   ],
   "source": [
    "import random\n",
    "\n",
    "def fconst(N): x = 1                                           #    O(1) function\n",
    "def flinear(N): x = [i for i in range(N)]                      #    O(n) function\n",
    "def fsquare(N): \n",
    "    for i in range(N): \n",
    "        for j in range(N): x = i*j                             #   O(n^2) function\n",
    "def fshuffle(N): random.shuffle(list(range(N)))                # O(N)\n",
    "def fsort(N): x = list(range(N)); random.shuffle(x); x.sort()\n",
    "#def fsortins(N): x = list(range(N)); random.shuffle(x); insertionSort(x)   //y = x[::-1]\n",
    "    \n",
    "# call main\n",
    "if __name__ == '__main__':\n",
    "    print('Analyzing Algorithms...')\n",
    "    plotFunctions([flinear, fsort, fsquare])   #[fconst, flinear, fsquare, fshuffle, fsort] "
   ]
  },
  {
   "cell_type": "markdown",
   "metadata": {},
   "source": [
    "Exercises <br>\n",
    "\n",
    "2.1-1 : Using Figure 2.2 as a model, illustrate the operation of INSERTION-SORT on the array A D h31; 41; 59; 26; 41; 58i.<br>\n",
    "2.1-2 : Rewrite the INSERTION-SORT procedure to sort into nonincreasing instead of nondecreasing order.<br>\n",
    "2.1-3 : Write pseudocode for following problem and Using a loop invariant, prove that your algorithm is correct.<br>\n",
    "<b>Problem</b> : <i>linear search searching a sequece of numbers</i><br>\n",
    "<b>Input</b> : A (input) sequence of $n$ numbers $S = [a_1, a_2, \\cdots, a_n]$ and a value $v$.<br>\n",
    "<b>Output</b> : An index $i$ such that $v = A[i$ or the special value NIL if does not appear in $S$.<br>\n",
    "2.1-4 : Consider the problem of adding two n-bit binary integers, stored in two n-element arrays A & B. \n",
    "The sum of the two integers should be stored in binary form in an (n + 1)-element array C. State the problem formally and write pseudocode for adding the two integers."
   ]
  },
  {
   "cell_type": "markdown",
   "metadata": {},
   "source": [
    "## B- MERGE SORT Algorithm"
   ]
  },
  {
   "cell_type": "markdown",
   "metadata": {},
   "source": [
    "### 1- Problem decription"
   ]
  },
  {
   "cell_type": "markdown",
   "metadata": {},
   "source": [
    "Sort problem already described"
   ]
  },
  {
   "cell_type": "markdown",
   "metadata": {},
   "source": [
    "### 2- Design "
   ]
  },
  {
   "cell_type": "markdown",
   "metadata": {},
   "source": [
    "$ALG[Merge\\_Sort]$ follows DC paradigm. it operates as follows.\n",
    "- DVD: Divide the $n$-$ELT$ $SQC$ to be sorted into $SQC_\\downarrow^2$ of $n/2$ $ELT$s each.\n",
    "- CQR: Sort $SQC_\\downarrow^2$ recursively using $ALG[Merge\\_Sort]$ (key operation).\n",
    "- CMB: Merge the two sorted $SQC_\\downarrow^2$ to produce the sorted $SOL$.\n",
    "\n",
    "The recursion 'bottoms out' when $SQC$ to be sorted has length $1$, (case no work to be done, since every $SQC$ of length 1 is already in sorted order).<br>\n",
    "\n",
    "Step CMB Merge done by calling procedure : <br>\n",
    "- $MERGE(A,p,q,r)$ where $A$ : array, $p, q, r$ : indices into the array such that $p \\le q < r$.<br>\n",
    "- $MERGE$ assumes that $A[p..q] \\& A[q+1..r] \\sim $ in sorted order.<br> \n",
    "- $MERGE$ merges $A[p..q] \\& A[q+1..r]$ to form a single sorted subarray that replaces $A[p..r]$."
   ]
  },
  {
   "cell_type": "markdown",
   "metadata": {},
   "source": [
    "<pre>\n",
    "MERGE(A,p,q,r)\n",
    "    nl = q - p + 1,  nr = r - q\n",
    "    let L[1..nl + 1] and R[1..nr + 1] be new arrays\n",
    "    for i = 1 to nl : L[i] = A[p+i-1]\n",
    "    for i = 1 to nr : R[i] = A[q+i]\n",
    "    L[nl + 1] = XMin, R[nr + 1] = XMin\n",
    "    i = 1, j = 1\n",
    "    for k = p to r\n",
    "        if (L[i] <= R[j]) A[k] =L[i]; i++;\n",
    "        else              A[k] =R[j]; j++;\n",
    "</pre>"
   ]
  },
  {
   "cell_type": "markdown",
   "metadata": {},
   "source": [
    "<pre>\n",
    "MERGE-SORT(A,1,|A|)\n",
    "MERGE-SORT(A,p,r)\n",
    "    if(p < r)\n",
    "        q = [(p + r)/2]          //divde subPb1 , subPb2\n",
    "        MERGE-SORT(A,p,q)        //conquer subPb1\n",
    "        MERGE-SORT(A,q-1,r)      //conquer subPb2\n",
    "        MERGE(A,p,q,r)           //combine sol1 and sol2 \n",
    "</pre>"
   ]
  },
  {
   "cell_type": "markdown",
   "metadata": {},
   "source": [
    "### 3- Correctness"
   ]
  },
  {
   "cell_type": "markdown",
   "metadata": {},
   "source": [
    "last for performs the $r-p+1$ basic steps by maintaining the following LI, at the start of each ITR(LOP[FOR]) :\n",
    "- P1 $A[p..k-1]$ contains the $k-p$ smallest elements of $L[1..n1+1]$ & $R[1..n2+1]$, in sorted order.<br>\n",
    "- P2 $L[i]$ and $R[j]$ are the smallest elements of their arrays that have not been copied back into $A$.\n",
    "\n",
    "Initialization : \n",
    "- Prior to LOP.ITR[1], have $k = p$, so $A[p..k-1]$ is empty that contains $k - p = 0$ smallest elements of $L$ and $R$, and \n",
    "- since $i = j = 1$, both L[i] and R[j] are the smallest elements of their arrays that have not been copied back into $A$.\n",
    "\n",
    "Maintenance:  (To see that each ITR maintains LI): \n",
    "- let suppose that $L[i] \\le R[j]$. \n",
    "Then $L[i]$ is the smallest element not yet copied back into $A$. \n",
    "Because $A[p..k-1]$ contains the $k-p$ smallest elements, \n",
    "after line 14 copies $L[i]$ into $A[k]$, $A[p..k]$ will contain the $k-p+1$ smallest elements. <br>\n",
    "Incrementing $k$ (in the for loop update) and $i$ (in line 15) reestablishes LI for ITR[next]. \n",
    "\n",
    "- If instead $L[i] > R[j]$, then lines 16–17 perform the appropriate action to maintain the loop invariant."
   ]
  },
  {
   "cell_type": "markdown",
   "metadata": {},
   "source": [
    "### 4- Analysis"
   ]
  },
  {
   "cell_type": "markdown",
   "metadata": {},
   "source": [
    "MERGE procedure takes time $\\Theta(n_1 + n_2) = \\Theta(n)$, where $n = r - p + 1$ is the total number of elements being merged.\n",
    "\n",
    "| =======DIV====== |  ========CQR======== | ========CMB======== |\n",
    "|:--:|:--:|:--:|\n",
    "| $D(n) = \\Theta(1)$ | $Q(n) = 2*T(n/2)$ | $C(n) = \\Theta(n)$ |\n",
    "\n",
    "Then, we have the following recurent equation :\n",
    "$$\n",
    "T(n) =\n",
    "\\begin{cases}\n",
    "               \\Theta(1)                            & \\text{if } n = 1\\\\\n",
    "               2*T(n/2) + \\Theta(n)                 & \\text{if } n > 1\n",
    "\\end{cases}\n",
    "$$\n",
    "and its solution is $T(n) = \\Theta(nlogn)$\n"
   ]
  },
  {
   "cell_type": "markdown",
   "metadata": {},
   "source": [
    "### 5 Implementation"
   ]
  },
  {
   "cell_type": "code",
   "execution_count": 97,
   "metadata": {},
   "outputs": [
    {
     "name": "stdout",
     "output_type": "stream",
     "text": [
      "[0, 1, 2, 3, 4, 5, 6, 7, 8, 9, 10, 11, 12, 13, 14, 15]\n"
     ]
    }
   ],
   "source": [
    "#python\n",
    "import sys\n",
    "XMax = sys.maxsize\n",
    "   \n",
    "def merge(A,p,q,r):\n",
    "    nl = q - p;  nr = r - q + 1\n",
    "    L =[];       R=[]\n",
    "    for i in range(nl): L.append(A[p+i]) \n",
    "    for i in range(nr): R.append(A[q+i]); \n",
    "    L.append(XMax);   R.append(XMax)\n",
    "    i = 0; j = 0\n",
    "    for k in range(p,r+1):\n",
    "        if (i < len(L)) and (L[i] <= R[j]): A[k] =L[i]; i=i+1\n",
    "        else : A[k] =R[j]; j=j+1\n",
    "\n",
    "def merge_sort(A,p,r):\n",
    "    if(p < r):\n",
    "        q = (p + r) // 2           #//divde subPb1 , subPb2\n",
    "        merge_sort(A,p,q)        #//conquer subPb1\n",
    "        merge_sort(A,q+1,r)      #//conquer subPb2\n",
    "        merge(A,p,q+1,r)           #//combine sol1 and sol2 \n",
    "    \n",
    "#Test A = [0,1,2,6,7,3,4,5,8,9]\n",
    "A = [15,14,13,12,11,10,0,1,2,6,7,3,4,5,8,9]\n",
    "merge_sort(A,0,len(A)-1)\n",
    "print(A)"
   ]
  },
  {
   "cell_type": "markdown",
   "metadata": {},
   "source": [
    "# Problems"
   ]
  },
  {
   "cell_type": "markdown",
   "metadata": {},
   "source": [
    "| ID | PROBLEM | DESCRIPTION | INPUTFORMAT | OUTPUTFORMAT | SAMPLE-INPUT | SAMPLE-OUTPUT |\n",
    "|:-- |:-- |:--   |:-- |:--  |:--  |:--   |\n",
    "| 1124 | Celebrity jeopardy | It’s hard to construct a problem that’s so easy that everyone will get it, yet still difficult enough to be worthy of some respect. Usually, we err on one side or the other. How simple can a problem really be? Here, as in Celebrity Jepoardy, questions and answers are a bit confused, and, because the participants are celebrities, there’s a real need to make the challenges simple. Your program needs to prepare a question to be solved — an equation to be solved — given the answer. Specifically, you have to write a program which finds the simplest possible equation to be solved given the answer, considering all possible equations using the standard mathematical symbols in the usual manner. In this context, simplest can be defined unambiguously several different ways leading to the same path of resolution. For now, find the equation whose transformation into the desired answer requires the least effort. For example, given the answer X = 2, you might create the equation 9 − X = 7. Alternately, you could build the system X > 0; X2 = 4. These may not be the simplest possible equations. Solving these mind-scratchers might be hard for a celebrity. | Each input line contains a solution in the form  symbol = value | For each input line, print the simplest system of equations which would to lead to the provided solution, respecting the use of space exactly as in the input. | Y = 3, X=9 | Y = 3, X=9 |"
   ]
  },
  {
   "cell_type": "code",
   "execution_count": null,
   "metadata": {
    "collapsed": true
   },
   "outputs": [],
   "source": []
  }
 ],
 "metadata": {
  "kernelspec": {
   "display_name": "Python 3",
   "language": "python",
   "name": "python3"
  },
  "language_info": {
   "codemirror_mode": {
    "name": "ipython",
    "version": 3
   },
   "file_extension": ".py",
   "mimetype": "text/x-python",
   "name": "python",
   "nbconvert_exporter": "python",
   "pygments_lexer": "ipython3",
   "version": "3.6.1"
  }
 },
 "nbformat": 4,
 "nbformat_minor": 2
}
